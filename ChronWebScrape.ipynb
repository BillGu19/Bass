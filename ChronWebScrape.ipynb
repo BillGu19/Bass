{
  "nbformat": 4,
  "nbformat_minor": 0,
  "metadata": {
    "colab": {
      "name": "ChronWebScrape.ipynb",
      "provenance": [],
      "authorship_tag": "ABX9TyMOIThMqmtlyHLE0DTSXNPg",
      "include_colab_link": true
    },
    "kernelspec": {
      "name": "python3",
      "display_name": "Python 3"
    }
  },
  "cells": [
    {
      "cell_type": "markdown",
      "metadata": {
        "id": "view-in-github",
        "colab_type": "text"
      },
      "source": [
        "<a href=\"https://colab.research.google.com/github/BillGu19/Bass/blob/master/ChronWebScrape.ipynb\" target=\"_parent\"><img src=\"https://colab.research.google.com/assets/colab-badge.svg\" alt=\"Open In Colab\"/></a>"
      ]
    },
    {
      "cell_type": "code",
      "metadata": {
        "id": "w4cA-p9vlz0N",
        "colab_type": "code",
        "colab": {}
      },
      "source": [
        "import requests\n",
        "import math\n",
        "from bs4 import BeautifulSoup"
      ],
      "execution_count": 135,
      "outputs": []
    },
    {
      "cell_type": "code",
      "metadata": {
        "id": "mC3V9ASzOZ5V",
        "colab_type": "code",
        "colab": {}
      },
      "source": [
        "#collects individual article urls from specified page\n",
        "def collect_url(page, num_articles, url_replace, date):\n",
        "  URL = 'https://www.dukechronicle.com/section/news?page=' + page + '&per_page=' + num_articles\n",
        "  if(url_replace != ''):\n",
        "    URL = url_replace\n",
        "  page = requests.get(URL)\n",
        "  soup = BeautifulSoup(page.content, 'html.parser')\n",
        "\n",
        "  url_html = soup.select('article.art-left.mb-4') \n",
        "\n",
        "  url_list = []\n",
        "  url_set = set()\n",
        "  for article_html in url_html:\n",
        "    url_list.append(str(article_html))\n",
        "  for article in url_list:\n",
        "    ind = article.index(\"https://www.dukechronicle.com/article/\")\n",
        "    url = ''\n",
        "    while(True):\n",
        "      url += article[ind]\n",
        "      if(article[ind+1] == '\"'):\n",
        "        break\n",
        "      ind += 1\n",
        "    if(date != ''):\n",
        "      end_ind = 45\n",
        "      if(date[5::] == ''):\n",
        "        end_ind = 43\n",
        "      if(url[38:end_ind:] == DATE):\n",
        "        url_set.add(url)\n",
        "    else:\n",
        "      url_set.add(url)\n",
        "  return url_set\n"
      ],
      "execution_count": 136,
      "outputs": []
    },
    {
      "cell_type": "code",
      "metadata": {
        "id": "Tg1_M0hdEOTa",
        "colab_type": "code",
        "colab": {}
      },
      "source": [
        "#cleans article of HTML tags and links\n",
        "def clean_full_article(article):\n",
        "  clean_article = ''\n",
        "  not_in_par = True\n",
        "  for c in article:\n",
        "    if(c == '<'):\n",
        "      not_in_par = False\n",
        "    if(not_in_par):\n",
        "      clean_article += c\n",
        "    if(c == '>'):\n",
        "      not_in_par = True\n",
        "  ind = clean_article.rfind('facebook')\n",
        "  clean_article = clean_article[:ind:]\n",
        "  return clean_article"
      ],
      "execution_count": 138,
      "outputs": []
    },
    {
      "cell_type": "code",
      "metadata": {
        "id": "apHsdyzLlwIN",
        "colab_type": "code",
        "colab": {}
      },
      "source": [
        "#extract full article from article link\n",
        "#returns number of occurences for specified WORDS\n",
        "def count_article(URL, words):\n",
        "  page = requests.get(URL)\n",
        "  soup = BeautifulSoup(page.content, 'html.parser')\n",
        "\n",
        "  results = soup.find('article', class_='full-article')\n",
        "  title = ''\n",
        "  try:\n",
        "    title = results.find('h1')\n",
        "  except:\n",
        "    print('no title in: ' + URL)\n",
        "  headers = ''\n",
        "  try:\n",
        "    headers = results.find('h3')\n",
        "  except:\n",
        "    print('no headers in: ' + URL)\n",
        "  article = ''\n",
        "  try:\n",
        "    article = results.find_all('p')\n",
        "  except:\n",
        "    print('no article text in: ' + URL)\n",
        "  title_str = ''\n",
        "  for x in title:\n",
        "      title_str = title_str + str(x)\n",
        "  headers_str = ''\n",
        "  for x in headers:\n",
        "    headers_str = headers_str + str(x)\n",
        "  article_str = ''\n",
        "  for x in article:\n",
        "    article_str = article_str + str(x)\n",
        "  full_article = title_str + headers_str + article_str\n",
        "  clean_article = clean_full_article(full_article)\n",
        "  word_dictionary = {}\n",
        "  for word in words:\n",
        "    word_dictionary[word] = clean_article.count(word)\n",
        "  if(PRINT_ARTICLES == True):\n",
        "    print(URL)\n",
        "    print(str(word_dictionary) + '\\n')\n",
        "  return word_dictionary"
      ],
      "execution_count": 139,
      "outputs": []
    },
    {
      "cell_type": "code",
      "metadata": {
        "id": "ICmZ5B51Lw6m",
        "colab_type": "code",
        "colab": {}
      },
      "source": [
        "#finds roughly the correct page range for a given year/month\n",
        "#oldest date is October 1990\n",
        "#year in YYYY and month in MM -> 01 for January\n",
        "#month can be left empty -> ''\n",
        "#returns url pointing to first instance of given date\n",
        "def find_page_date(year, month):\n",
        "  page = 1\n",
        "  beg_page = ''\n",
        "  end_page = ''\n",
        "  in_date = True\n",
        "  while(page < 1874):\n",
        "    url_set = collect_url(str(page), num_articles='10', url_replace='', date='')\n",
        "    year_month = year + '/' + month\n",
        "    should_break = False\n",
        "    for x in url_set:\n",
        "      end_ind = 45\n",
        "      if(month == ''):\n",
        "        end_ind = 43\n",
        "      if(in_date == True and x[38:end_ind:] == year_month):\n",
        "        beg_page = str(page)\n",
        "        in_date = False\n",
        "        break\n",
        "      elif(in_date == False and x[38:end_ind:] != year_month):\n",
        "        end_page = str(page)\n",
        "        should_break = True\n",
        "        break\n",
        "    if(should_break == True):\n",
        "      break\n",
        "    page += 1\n",
        "  diff = find_diff(int(beg_page), int(end_page))\n",
        "  beg_page = str(math.ceil(int(beg_page)/(diff)))\n",
        "  num_articles = diff*10\n",
        "  return 'https://www.dukechronicle.com/section/news?page=' + beg_page + '&per_page=' + str(num_articles)"
      ],
      "execution_count": 140,
      "outputs": []
    },
    {
      "cell_type": "code",
      "metadata": {
        "id": "sx75q5FFPrxO",
        "colab_type": "code",
        "colab": {}
      },
      "source": [
        "#each date format must include year and month -> YYYY/MM\n",
        "#beg_date needs to be more recent than end_date\n",
        "#end_date needs to be a month older than your target\n",
        "#eg. range you want -> (2020/08, 2020/06)\n",
        "#then input should be (2020/08, 2020/05)\n",
        "def find_page_date_range(beg_date, end_date):\n",
        "  page = 1\n",
        "  beg_page = ''\n",
        "  end_page = ''\n",
        "  in_date = True\n",
        "  while(page < 1874):\n",
        "    url_set = collect_url(str(page), num_articles='10', url_replace='', date='')\n",
        "    should_break = False\n",
        "    for x in url_set:\n",
        "      end_ind = 45\n",
        "      if(in_date == True and x[38:end_ind:] == beg_date):\n",
        "        beg_page = str(page)\n",
        "        in_date = False\n",
        "        break\n",
        "      elif(in_date == False and x[38:end_ind:] == end_date):\n",
        "        end_page = str(page)\n",
        "        should_break = True\n",
        "        break\n",
        "    if(should_break == True):\n",
        "      break\n",
        "    page += 1\n",
        "  diff = find_diff(int(beg_page), int(end_page))\n",
        "  beg_page = str(math.ceil(int(beg_page)/(diff)))\n",
        "  num_articles = diff*10\n",
        "  return 'https://www.dukechronicle.com/section/news?page=' + beg_page + '&per_page=' + str(num_articles)"
      ],
      "execution_count": 147,
      "outputs": []
    },
    {
      "cell_type": "code",
      "metadata": {
        "id": "5s3nm44l67IQ",
        "colab_type": "code",
        "colab": {}
      },
      "source": [
        "def find_diff(beg_page, end_page):\n",
        "  diff = end_page - beg_page + 1\n",
        "  while(True):\n",
        "    sum = 1\n",
        "    do_break = True\n",
        "    while(sum < end_page):\n",
        "      sum += diff\n",
        "      if(sum > beg_page and sum <= end_page):\n",
        "        do_break = False\n",
        "        break\n",
        "    if(do_break == True):\n",
        "      break\n",
        "    else:\n",
        "      diff += 1\n",
        "  return diff"
      ],
      "execution_count": 141,
      "outputs": []
    },
    {
      "cell_type": "markdown",
      "metadata": {
        "id": "rgiTq3gnEER9",
        "colab_type": "text"
      },
      "source": [
        "ALL THE GOOD STUFF HAPPENS DOWN HERE (Everything you need to worry about @Shan <3)"
      ]
    },
    {
      "cell_type": "code",
      "metadata": {
        "id": "uTR6SEldZY9P",
        "colab_type": "code",
        "colab": {
          "base_uri": "https://localhost:8080/",
          "height": 35
        },
        "outputId": "397f8ea7-29ba-4b25-b5a6-def4ffdae5c2"
      },
      "source": [
        "#finds roughly the correct page range for a given year/month\n",
        "#oldest date is October 1990\n",
        "#year in YYYY and month in MM -> 01 for January\n",
        "#returns url pointing to first instance of given date\n",
        "YEAR = '2020'\n",
        "MONTH = '08'\n",
        "\n",
        "find_page_date(YEAR, MONTH)"
      ],
      "execution_count": 142,
      "outputs": [
        {
          "output_type": "execute_result",
          "data": {
            "application/vnd.google.colaboratory.intrinsic+json": {
              "type": "string"
            },
            "text/plain": [
              "'https://www.dukechronicle.com/section/news?page=1&per_page=60'"
            ]
          },
          "metadata": {
            "tags": []
          },
          "execution_count": 142
        }
      ]
    },
    {
      "cell_type": "code",
      "metadata": {
        "id": "tqZzdZCbR6sK",
        "colab_type": "code",
        "colab": {
          "base_uri": "https://localhost:8080/",
          "height": 35
        },
        "outputId": "36b9704b-5503-448c-e0c4-56da12f7f347"
      },
      "source": [
        "#each date format must include year and month -> YYYY/MM\n",
        "#beg_date needs to be more recent than end_date\n",
        "#end_date needs to be a month older than your target\n",
        "#eg. range you want -> (2020/08, 2020/06), then input should be (2020/08, 2020/05)\n",
        "\n",
        "BEGIN_DATE = '2020/08'\n",
        "END_DATE = '2020/05'\n",
        "\n",
        "find_page_date_range(BEGIN_DATE, END_DATE)"
      ],
      "execution_count": 148,
      "outputs": [
        {
          "output_type": "execute_result",
          "data": {
            "application/vnd.google.colaboratory.intrinsic+json": {
              "type": "string"
            },
            "text/plain": [
              "'https://www.dukechronicle.com/section/news?page=1&per_page=110'"
            ]
          },
          "metadata": {
            "tags": []
          },
          "execution_count": 148
        }
      ]
    },
    {
      "cell_type": "code",
      "metadata": {
        "id": "5IYXRj5CkAVy",
        "colab_type": "code",
        "colab": {}
      },
      "source": [
        "#variable inputs\n",
        "\n",
        "#page number of Duke Chronicle All News\n",
        "PAGE = '1' \n",
        "\n",
        "#number of articles to display per page\n",
        "ARTICLE_PER_PAGE = '10' \n",
        "\n",
        "#can provide your own dukechronicle URL, leave empty if you just want to specify page and number of articles\n",
        "#link should be in the format 'https://www.dukechronicle.com/section/news?page=PAGE&per_page=ARTICLE_PER_PAGE'\n",
        "URL_REPLACE = 'https://www.dukechronicle.com/section/news?page=1&per_page=60'\n",
        "\n",
        "#words to track in articles \n",
        "WORDS = ['Duke', 'University'] \n",
        "\n",
        "#specify articles on page with only this date, leave blank if not specifying\n",
        "#format YYYY/MM\n",
        "#can also leave month empty and just filter for year, eg. '2020/'\n",
        "DATE = '2020/08'\n",
        "\n",
        "#print individual articles and word count (articles are formatted with title, headers, and then text)\n",
        "PRINT_ARTICLES = True"
      ],
      "execution_count": 149,
      "outputs": []
    },
    {
      "cell_type": "code",
      "metadata": {
        "id": "LfpzBPeDnXoa",
        "colab_type": "code",
        "colab": {
          "base_uri": "https://localhost:8080/",
          "height": 1000
        },
        "outputId": "efb54a72-4356-4011-9c23-9606a778460d"
      },
      "source": [
        "#calls functions written above\n",
        "url_set = collect_url(PAGE, ARTICLE_PER_PAGE, URL_REPLACE, DATE)\n",
        "occurence_dictionary = {}\n",
        "for w in WORDS:\n",
        "  occurence_dictionary[w] = 0\n",
        "for article_url in url_set:\n",
        "  article_occurences = count_article(article_url, WORDS)\n",
        "  for x in article_occurences:\n",
        "    occurence_dictionary[x] += article_occurences[x]\n",
        "print('Total word counts: ' + str(occurence_dictionary))"
      ],
      "execution_count": 146,
      "outputs": [
        {
          "output_type": "stream",
          "text": [
            "https://www.dukechronicle.com/article/2020/08/duke-university-announce-11-postive-covid-results-tests\n",
            "{'Duke': 9, 'University': 1}\n",
            "\n",
            "https://www.dukechronicle.com/article/2020/08/duke-university-know-my-name-chanel-miller-class-2024\n",
            "{'Duke': 3, 'University': 1}\n",
            "\n",
            "https://www.dukechronicle.com/article/2020/08/duke-university-researchers-test-vaccine-treat-breast-cancer\n",
            "{'Duke': 3, 'University': 0}\n",
            "\n",
            "https://www.dukechronicle.com/article/2020/08/200827-boyd-balasubramanian-ennis\n",
            "{'Duke': 4, 'University': 3}\n",
            "\n",
            "https://www.dukechronicle.com/article/2020/08/duke-university-compact-detailed-emailed-community-tuesday-coronavirus\n",
            "{'Duke': 20, 'University': 1}\n",
            "\n",
            "https://www.dukechronicle.com/article/2020/08/faculty-students-search-for-solutions-issue-child-care-during-pandemic\n",
            "{'Duke': 6, 'University': 3}\n",
            "\n",
            "https://www.dukechronicle.com/article/2020/08/duke-university-enforcement-education-safety-regulations-pandemic\n",
            "{'Duke': 36, 'University': 5}\n",
            "\n",
            "https://www.dukechronicle.com/article/2020/08/duke-university-chapel-hill-unc-move-undergraduate-classes-online-coronavirus\n",
            "{'Duke': 0, 'University': 1}\n",
            "\n",
            "https://www.dukechronicle.com/article/2020/08/duke-university-timing-testing-move-in-amid-pandemic-covid\n",
            "{'Duke': 6, 'University': 0}\n",
            "\n",
            "https://www.dukechronicle.com/article/2020/08/duke-university-three-quarters-community-95-undergraduates-duke-compact\n",
            "{'Duke': 8, 'University': 1}\n",
            "\n",
            "https://www.dukechronicle.com/article/2020/08/duke-university-students-move-in-life-duke-fall-coronavirus\n",
            "{'Duke': 31, 'University': 2}\n",
            "\n",
            "https://www.dukechronicle.com/article/2020/08/duke-university-chasing-dream-daca-recipients-react\n",
            "{'Duke': 18, 'University': 5}\n",
            "\n",
            "https://www.dukechronicle.com/article/2020/08/duke-university-more-insidious-violence-racism-health-care-coronavirus\n",
            "{'Duke': 3, 'University': 2}\n",
            "\n",
            "https://www.dukechronicle.com/article/2020/08/duke-university-five-takeaways-admin-friday-morning-conversation-coronavirus-response\n",
            "{'Duke': 12, 'University': 12}\n",
            "\n",
            "https://www.dukechronicle.com/article/2020/08/duke-university-four-classes-consider-drop-add\n",
            "{'Duke': 3, 'University': 0}\n",
            "\n",
            "https://www.dukechronicle.com/article/2020/08/duke-university-no-timeline-gardens-reopening-coronavirus\n",
            "{'Duke': 8, 'University': 0}\n",
            "\n",
            "https://www.dukechronicle.com/article/2020/08/duke-university-administrators-animals-who-you-need-to-know-duke\n",
            "{'Duke': 22, 'University': 4}\n",
            "\n",
            "https://www.dukechronicle.com/article/2020/08/duke-university-virtual-convocation-leaders-encourage-students-lean-on-community-safe-distance\n",
            "{'Duke': 22, 'University': 0}\n",
            "\n",
            "https://www.dukechronicle.com/article/2020/08/duke-university-chronicle-print-one-day-week-upcoming-year\n",
            "{'Duke': 4, 'University': 2}\n",
            "\n",
            "https://www.dukechronicle.com/article/2020/08/duke-university-reports-four-positive-test-returning-student\n",
            "{'Duke': 10, 'University': 1}\n",
            "\n",
            "https://www.dukechronicle.com/article/2020/08/duke-university-human-vaccine-institute-federal-funding-covid-antibody-treatment\n",
            "{'Duke': 4, 'University': 0}\n",
            "\n",
            "https://www.dukechronicle.com/article/2020/08/duke-university-begin-pool-testing-undergraduates-next-week-covid\n",
            "{'Duke': 10, 'University': 1}\n",
            "\n",
            "https://www.dukechronicle.com/article/2020/08/duke-university-large-classes-continue-in-person-meetings-coronavirus\n",
            "{'Duke': 7, 'University': 6}\n",
            "\n",
            "https://www.dukechronicle.com/article/2020/08/duke-university-dining-work-fall-semester-coronavirus\n",
            "{'Duke': 9, 'University': 0}\n",
            "\n",
            "https://www.dukechronicle.com/article/2020/08/duke-university-dsg-resolution-grading-change-fall-day-off-covid\n",
            "{'Duke': 10, 'University': 1}\n",
            "\n",
            "https://www.dukechronicle.com/article/2020/08/duke-university-covid-tracker-weekly-faculty-staff-positive-coronavirus\n",
            "{'Duke': 4, 'University': 0}\n",
            "\n",
            "https://www.dukechronicle.com/article/2020/08/duke-university-virtual-social-contactless-service-student-groups-move-online\n",
            "{'Duke': 13, 'University': 1}\n",
            "\n",
            "https://www.dukechronicle.com/article/2020/08/tax-form-price-compensated-more-previous-year-other-employee-pay-change\n",
            "{'Duke': 10, 'University': 4}\n",
            "\n",
            "https://www.dukechronicle.com/article/2020/08/duke-university-eliminate-tuition-increase-cut-fees\n",
            "{'Duke': 6, 'University': 1}\n",
            "\n",
            "https://www.dukechronicle.com/article/2020/08/duke-university-juniors-seniors-scamble-fall-plans-change-reopening-coronavirus\n",
            "{'Duke': 22, 'University': 2}\n",
            "\n",
            "https://www.dukechronicle.com/article/2020/08/duke-university-north-carolina-state-online-only-undergraduate-classes-coronavirus-covid\n",
            "{'Duke': 0, 'University': 2}\n",
            "\n",
            "https://www.dukechronicle.com/article/2020/08/duke-university-positive-tests-12-10-student-faculty-staff\n",
            "{'Duke': 4, 'University': 1}\n",
            "\n",
            "https://www.dukechronicle.com/article/2020/08/duke-chronicle-video-move-in-fall-2020\n",
            "{'Duke': 1, 'University': 0}\n",
            "\n",
            "https://www.dukechronicle.com/article/2020/08/duke-university-national-security-advisor-susan-rice-criticize-trump-administration-covid-response-zoom\n",
            "{'Duke': 0, 'University': 1}\n",
            "\n",
            "https://www.dukechronicle.com/article/2020/08/duke-university-first-year-student-coach-k-protest-organized-nolan-smith-black-lives-matter\n",
            "{'Duke': 1, 'University': 0}\n",
            "\n",
            "https://www.dukechronicle.com/article/2020/08/duke-university-trinity-allow-departments-choose-satisfactory-unsatisfactory-grading-courses\n",
            "{'Duke': 2, 'University': 0}\n",
            "\n",
            "https://www.dukechronicle.com/article/2020/08/duke-university-daniel-ennis-executive-vice-president-tallman-trask\n",
            "{'Duke': 3, 'University': 2}\n",
            "\n",
            "https://www.dukechronicle.com/article/2020/08/duke-university-nine-positives-none-surveillance-testing-coronavirus-update\n",
            "{'Duke': 3, 'University': 2}\n",
            "\n",
            "https://www.dukechronicle.com/article/2020/08/duke-university-order-sport-alum-wisconsin-supreme-court-justice-ultramarathon\n",
            "{'Duke': 7, 'University': 1}\n",
            "\n",
            "https://www.dukechronicle.com/article/2020/08/duke-university-cooking-book-heatwave-events-virtual-online-weeks-class\n",
            "{'Duke': 4, 'University': 2}\n",
            "\n",
            "https://www.dukechronicle.com/article/2020/08/duke-university-student-government-overhaul-election-rules-spring-mishaps\n",
            "{'Duke': 9, 'University': 0}\n",
            "\n",
            "https://www.dukechronicle.com/article/2020/08/duke-university-researchers-dispute-common-interpretation-mask-study-covid\n",
            "{'Duke': 7, 'University': 0}\n",
            "\n",
            "https://www.dukechronicle.com/article/2020/08/duke-university-test-optional-experts-problems-college-admissions-tests\n",
            "{'Duke': 11, 'University': 1}\n",
            "\n",
            "https://www.dukechronicle.com/article/2020/08/duke-university-caucuses-update-senate-previous-work-plans-academic-year\n",
            "{'Duke': 6, 'University': 0}\n",
            "\n",
            "Total word counts: {'Duke': 381, 'University': 72}\n"
          ],
          "name": "stdout"
        }
      ]
    }
  ]
}